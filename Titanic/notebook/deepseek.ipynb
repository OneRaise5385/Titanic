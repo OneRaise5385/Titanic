{
 "cells": [
  {
   "cell_type": "code",
   "execution_count": 43,
   "metadata": {},
   "outputs": [],
   "source": [
    "import openai\n",
    "client = openai.OpenAI(api_key=\"sk-4193f32535614063b23209f9ff09c169\", \n",
    "                       base_url=\"https://api.deepseek.com\")\n",
    "\n",
    "def deepseek(question, dsmodel='deepseek-chat'):\n",
    "    '''\n",
    "    question: 提问\n",
    "    dsmodel: 使用的模型，默认为deepseek-chat(V3), 'deepseek-reasoner'为推理模型\n",
    "    '''\n",
    "    response = client.chat.completions.create(\n",
    "        model=dsmodel,\n",
    "        messages=[\n",
    "            {\"role\": \"system\", \"content\": \"You are a helpful assistant\"},\n",
    "            {\"role\": \"user\", \"content\": question},\n",
    "        ],\n",
    "        stream=False\n",
    "    )\n",
    "    return response.choices[0].message.content"
   ]
  },
  {
   "cell_type": "code",
   "execution_count": 44,
   "metadata": {},
   "outputs": [
    {
     "name": "stdout",
     "output_type": "stream",
     "text": [
      "你可以通过向我提问来使用我。我可以帮助你解答问题、提供信息、建议、翻译、写作、编程等。以下是一些常见的使用方式：\n",
      "\n",
      "1. **提问**：你可以直接向我提出任何问题，比如“什么是人工智能？”或“如何学习编程？”。\n",
      "2. **获取信息**：如果你需要某个主题的详细信息，比如历史事件、科学概念、技术教程等，我可以为你提供详细的解释。\n",
      "3. **写作帮助**：如果你需要写一篇文章、邮件、报告等，我可以帮助你生成内容或提供建议。\n",
      "4. **翻译**：我可以帮助你翻译文本，支持多种语言之间的互译。\n",
      "5. **编程帮助**：如果你在编程中遇到问题，我可以帮助你调试代码、解释概念或提供代码示例。\n",
      "6. **学习建议**：如果你在学习某个领域，我可以为你提供学习资源、学习计划或学习方法。\n",
      "\n",
      "你可以随时向我提出任何问题或请求帮助，我会尽力为你提供有用的信息和建议。\n"
     ]
    }
   ],
   "source": [
    "question = '怎么使用你'\n",
    "print(deepseek(question))"
   ]
  }
 ],
 "metadata": {
  "kernelspec": {
   "display_name": "base",
   "language": "python",
   "name": "python3"
  },
  "language_info": {
   "codemirror_mode": {
    "name": "ipython",
    "version": 3
   },
   "file_extension": ".py",
   "mimetype": "text/x-python",
   "name": "python",
   "nbconvert_exporter": "python",
   "pygments_lexer": "ipython3",
   "version": "3.11.4"
  }
 },
 "nbformat": 4,
 "nbformat_minor": 2
}
