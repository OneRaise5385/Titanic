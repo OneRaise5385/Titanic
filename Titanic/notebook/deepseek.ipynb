{
 "cells": [
  {
   "cell_type": "code",
   "execution_count": 2,
   "metadata": {},
   "outputs": [],
   "source": [
    "import openai\n",
    "client = openai.OpenAI(api_key=\"sk-4193f32535614063b23209f9ff09c169\", base_url=\"https://api.deepseek.com\")"
   ]
  },
  {
   "cell_type": "code",
   "execution_count": 6,
   "metadata": {},
   "outputs": [],
   "source": [
    "response = client.chat.completions.create(\n",
    "    model=\"deepseek-chat\",\n",
    "    messages=[\n",
    "        {\"role\": \"system\", \"content\": \"You are a helpful assistant\"},\n",
    "        {\"role\": \"user\", \"content\": \"我有个朋友叫张茨，你教教他怎么用api\"},\n",
    "    ],\n",
    "    stream=False\n",
    ")"
   ]
  },
  {
   "cell_type": "code",
   "execution_count": 7,
   "metadata": {},
   "outputs": [
    {
     "data": {
      "text/plain": [
       "ChatCompletion(id='0f9e5672-5e2b-4b48-88ad-9bba885929a7', choices=[Choice(finish_reason='stop', index=0, logprobs=None, message=ChatCompletionMessage(content='当然可以！API（应用程序编程接口）是一种允许不同软件应用程序之间进行通信的工具。使用API可以帮助开发者获取数据、执行操作或集成不同的服务。下面是一个简单的步骤指南，帮助你的朋友张茨开始使用API：\\n\\n### 1. **了解API的基本概念**\\n   - **API**：应用程序编程接口，允许两个软件应用程序之间进行通信。\\n   - **端点（Endpoint）**：API的URL，用于访问特定的功能或数据。\\n   - **请求（Request）**：客户端向服务器发送的请求，通常包括HTTP方法（如GET、POST等）和参数。\\n   - **响应（Response）**：服务器返回的数据，通常是JSON或XML格式。\\n\\n### 2. **选择一个API**\\n   - 首先，张茨需要选择一个他感兴趣的API。例如，他可以使用天气API、社交媒体API、支付API等。\\n   - 一些常见的API提供商包括：\\n     - [OpenWeatherMap](https://openweathermap.org/api)（天气数据）\\n     - [Twitter API](https://developer.twitter.com/en/docs)（社交媒体数据）\\n     - [Stripe API](https://stripe.com/docs/api)（支付处理）\\n\\n### 3. **获取API密钥**\\n   - 大多数API需要API密钥来进行身份验证。张茨需要在API提供商的网站上注册一个账户，并获取API密钥。\\n   - 例如，OpenWeatherMap的API密钥可以在注册后从用户仪表板中获取。\\n\\n### 4. **阅读API文档**\\n   - 每个API都有详细的文档，说明如何使用它。张茨需要仔细阅读文档，了解如何构造请求、可用的端点、参数和返回的数据格式。\\n   - 例如，OpenWeatherMap的文档会告诉他如何获取某个城市的天气数据。\\n\\n### 5. **发送API请求**\\n   - 张茨可以使用多种工具来发送API请求，如Postman、cURL、或直接在代码中使用HTTP库（如Python的`requests`库）。\\n   - 例如，使用Python的`requests`库获取天气数据：\\n     ```python\\n     import requests\\n\\n     api_key = \"your_api_key_here\"\\n     city = \"Beijing\"\\n     url = f\"http://api.openweathermap.org/data/2.5/weather?q={city}&appid={api_key}\"\\n\\n     response = requests.get(url)\\n     data = response.json()\\n\\n     print(data)\\n     ```\\n\\n### 6. **处理API响应**\\n   - API通常会返回JSON或XML格式的数据。张茨需要解析这些数据，并根据需要进行处理。\\n   - 例如，解析OpenWeatherMap返回的JSON数据：\\n     ```python\\n     temperature = data[\\'main\\'][\\'temp\\']\\n     weather_description = data[\\'weather\\'][0][\\'description\\']\\n     print(f\"Temperature: {temperature}K, Weather: {weather_description}\")\\n     ```\\n\\n### 7. **错误处理**\\n   - API请求可能会失败，因此张茨需要处理可能的错误情况，如网络问题、无效的API密钥、或超出请求限制。\\n   - 例如，检查HTTP状态码：\\n     ```python\\n     if response.status_code == 200:\\n         print(\"Request successful\")\\n     else:\\n         print(f\"Error: {response.status_code}\")\\n     ```\\n\\n### 8. **测试和调试**\\n   - 张茨应该在不同的条件下测试他的代码，确保它能正确处理各种情况。\\n   - 使用调试工具（如Postman）可以帮助他更好地理解API的行为。\\n\\n### 9. **优化和扩展**\\n   - 一旦张茨熟悉了基本的API使用，他可以尝试更复杂的操作，如分页、缓存、或使用OAuth进行身份验证。\\n\\n### 10. **遵守API使用条款**\\n   - 最后，张茨需要确保他遵守API提供商的使用条款，如请求频率限制、数据使用限制等。\\n\\n### 示例：获取天气数据\\n假设张茨想获取北京的天气数据，他可以按照以下步骤操作：\\n\\n1. **注册并获取API密钥**：在OpenWeatherMap上注册并获取API密钥。\\n2. **构造请求URL**：\\n   ```\\n   http://api.openweathermap.org/data/2.5/weather?q=Beijing&appid=your_api_key_here\\n   ```\\n3. **发送请求并处理响应**：\\n   ```python\\n   import requests\\n\\n   api_key = \"your_api_key_here\"\\n   city = \"Beijing\"\\n   url = f\"http://api.openweathermap.org/data/2.5/weather?q={city}&appid={api_key}\"\\n\\n   response = requests.get(url)\\n   data = response.json()\\n\\n   if response.status_code == 200:\\n       temperature = data[\\'main\\'][\\'temp\\']\\n       weather_description = data[\\'weather\\'][0][\\'description\\']\\n       print(f\"Temperature: {temperature}K, Weather: {weather_description}\")\\n   else:\\n       print(f\"Error: {response.status_code}\")\\n   ```\\n\\n希望这些步骤能帮助张茨顺利开始使用API！如果有任何具体问题，欢迎继续提问。', refusal=None, role='assistant', audio=None, function_call=None, tool_calls=None))], created=1738323546, model='deepseek-chat', object='chat.completion', service_tier=None, system_fingerprint='fp_3a5770e1b4', usage=CompletionUsage(completion_tokens=1043, prompt_tokens=21, total_tokens=1064, completion_tokens_details=None, prompt_tokens_details=PromptTokensDetails(audio_tokens=None, cached_tokens=0), prompt_cache_hit_tokens=0, prompt_cache_miss_tokens=21))"
      ]
     },
     "execution_count": 7,
     "metadata": {},
     "output_type": "execute_result"
    }
   ],
   "source": [
    "response"
   ]
  },
  {
   "cell_type": "code",
   "execution_count": 8,
   "metadata": {},
   "outputs": [
    {
     "name": "stdout",
     "output_type": "stream",
     "text": [
      "当然可以！API（应用程序编程接口）是一种允许不同软件应用程序之间进行通信的工具。使用API可以帮助开发者获取数据、执行操作或集成不同的服务。下面是一个简单的步骤指南，帮助你的朋友张茨开始使用API：\n",
      "\n",
      "### 1. **了解API的基本概念**\n",
      "   - **API**：应用程序编程接口，允许两个软件应用程序之间进行通信。\n",
      "   - **端点（Endpoint）**：API的URL，用于访问特定的功能或数据。\n",
      "   - **请求（Request）**：客户端向服务器发送的请求，通常包括HTTP方法（如GET、POST等）和参数。\n",
      "   - **响应（Response）**：服务器返回的数据，通常是JSON或XML格式。\n",
      "\n",
      "### 2. **选择一个API**\n",
      "   - 首先，张茨需要选择一个他感兴趣的API。例如，他可以使用天气API、社交媒体API、支付API等。\n",
      "   - 一些常见的API提供商包括：\n",
      "     - [OpenWeatherMap](https://openweathermap.org/api)（天气数据）\n",
      "     - [Twitter API](https://developer.twitter.com/en/docs)（社交媒体数据）\n",
      "     - [Stripe API](https://stripe.com/docs/api)（支付处理）\n",
      "\n",
      "### 3. **获取API密钥**\n",
      "   - 大多数API需要API密钥来进行身份验证。张茨需要在API提供商的网站上注册一个账户，并获取API密钥。\n",
      "   - 例如，OpenWeatherMap的API密钥可以在注册后从用户仪表板中获取。\n",
      "\n",
      "### 4. **阅读API文档**\n",
      "   - 每个API都有详细的文档，说明如何使用它。张茨需要仔细阅读文档，了解如何构造请求、可用的端点、参数和返回的数据格式。\n",
      "   - 例如，OpenWeatherMap的文档会告诉他如何获取某个城市的天气数据。\n",
      "\n",
      "### 5. **发送API请求**\n",
      "   - 张茨可以使用多种工具来发送API请求，如Postman、cURL、或直接在代码中使用HTTP库（如Python的`requests`库）。\n",
      "   - 例如，使用Python的`requests`库获取天气数据：\n",
      "     ```python\n",
      "     import requests\n",
      "\n",
      "     api_key = \"your_api_key_here\"\n",
      "     city = \"Beijing\"\n",
      "     url = f\"http://api.openweathermap.org/data/2.5/weather?q={city}&appid={api_key}\"\n",
      "\n",
      "     response = requests.get(url)\n",
      "     data = response.json()\n",
      "\n",
      "     print(data)\n",
      "     ```\n",
      "\n",
      "### 6. **处理API响应**\n",
      "   - API通常会返回JSON或XML格式的数据。张茨需要解析这些数据，并根据需要进行处理。\n",
      "   - 例如，解析OpenWeatherMap返回的JSON数据：\n",
      "     ```python\n",
      "     temperature = data['main']['temp']\n",
      "     weather_description = data['weather'][0]['description']\n",
      "     print(f\"Temperature: {temperature}K, Weather: {weather_description}\")\n",
      "     ```\n",
      "\n",
      "### 7. **错误处理**\n",
      "   - API请求可能会失败，因此张茨需要处理可能的错误情况，如网络问题、无效的API密钥、或超出请求限制。\n",
      "   - 例如，检查HTTP状态码：\n",
      "     ```python\n",
      "     if response.status_code == 200:\n",
      "         print(\"Request successful\")\n",
      "     else:\n",
      "         print(f\"Error: {response.status_code}\")\n",
      "     ```\n",
      "\n",
      "### 8. **测试和调试**\n",
      "   - 张茨应该在不同的条件下测试他的代码，确保它能正确处理各种情况。\n",
      "   - 使用调试工具（如Postman）可以帮助他更好地理解API的行为。\n",
      "\n",
      "### 9. **优化和扩展**\n",
      "   - 一旦张茨熟悉了基本的API使用，他可以尝试更复杂的操作，如分页、缓存、或使用OAuth进行身份验证。\n",
      "\n",
      "### 10. **遵守API使用条款**\n",
      "   - 最后，张茨需要确保他遵守API提供商的使用条款，如请求频率限制、数据使用限制等。\n",
      "\n",
      "### 示例：获取天气数据\n",
      "假设张茨想获取北京的天气数据，他可以按照以下步骤操作：\n",
      "\n",
      "1. **注册并获取API密钥**：在OpenWeatherMap上注册并获取API密钥。\n",
      "2. **构造请求URL**：\n",
      "   ```\n",
      "   http://api.openweathermap.org/data/2.5/weather?q=Beijing&appid=your_api_key_here\n",
      "   ```\n",
      "3. **发送请求并处理响应**：\n",
      "   ```python\n",
      "   import requests\n",
      "\n",
      "   api_key = \"your_api_key_here\"\n",
      "   city = \"Beijing\"\n",
      "   url = f\"http://api.openweathermap.org/data/2.5/weather?q={city}&appid={api_key}\"\n",
      "\n",
      "   response = requests.get(url)\n",
      "   data = response.json()\n",
      "\n",
      "   if response.status_code == 200:\n",
      "       temperature = data['main']['temp']\n",
      "       weather_description = data['weather'][0]['description']\n",
      "       print(f\"Temperature: {temperature}K, Weather: {weather_description}\")\n",
      "   else:\n",
      "       print(f\"Error: {response.status_code}\")\n",
      "   ```\n",
      "\n",
      "希望这些步骤能帮助张茨顺利开始使用API！如果有任何具体问题，欢迎继续提问。\n"
     ]
    }
   ],
   "source": [
    "print(response.choices[0].message.content)\n"
   ]
  }
 ],
 "metadata": {
  "kernelspec": {
   "display_name": "base",
   "language": "python",
   "name": "python3"
  },
  "language_info": {
   "codemirror_mode": {
    "name": "ipython",
    "version": 3
   },
   "file_extension": ".py",
   "mimetype": "text/x-python",
   "name": "python",
   "nbconvert_exporter": "python",
   "pygments_lexer": "ipython3",
   "version": "3.11.4"
  }
 },
 "nbformat": 4,
 "nbformat_minor": 2
}
