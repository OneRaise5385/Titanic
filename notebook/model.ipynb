{
 "cells": [
  {
   "cell_type": "markdown",
   "metadata": {},
   "source": [
    "# 建模"
   ]
  },
  {
   "cell_type": "code",
   "execution_count": 1,
   "metadata": {},
   "outputs": [],
   "source": [
    "import pandas as pd\n",
    "import joblib\n",
    "import psutil\n",
    "from sklearn.model_selection import GridSearchCV\n"
   ]
  },
  {
   "cell_type": "code",
   "execution_count": null,
   "metadata": {},
   "outputs": [],
   "source": [
    "train = pd.read_csv('../input/train_final.csv')\n",
    "test = pd.read_csv('../input/test_final.csv')\n",
    "\n",
    "X = train.drop(['Survived'], axis=1)\n",
    "y = train['Survived']\n",
    "\n",
    "\n",
    "def save_model(model, name):\n",
    "    '''保存模型'''\n",
    "    joblib.dump(model, f'../models/{name}.pkl')\n",
    "    print(f'{name} is successfully saved!')\n",
    "    return True\n",
    "\n",
    "\n",
    "def submit(model_name : str,\n",
    "           test : pd.DataFrame):\n",
    "    ''' \n",
    "    保存提交（预测）的数据\\n\n",
    "    model_name: 模型的名称（只传入点号之前的名称）\\n\n",
    "    test: 需要预测的数据集\n",
    "    '''\n",
    "    # 载入模型\n",
    "    model = joblib.load(f'../models/{model_name}.pkl')\n",
    "    # 使用模型预测\n",
    "    y_pred = model.predict(test)\n",
    "    # 保存提交\n",
    "    submission = pd.read_csv('../submission/submission.csv')\n",
    "    submission['Survived'] = y_pred.astype(int)\n",
    "    submission.to_csv(f'../submission/{model_name}.csv', index=None)\n",
    "    print(f'{model_name} is successfully used to test!')\n",
    "    return True\n",
    "\n",
    "def memory():\n",
    "    mem = psutil.virtual_memory()\n",
    "    print(f\"可用内存: {mem.available / 1024 / 1024:.2f} MB\")\n",
    "    print(f\"内存使用率: {mem.percent}%\")  "
   ]
  },
  {
   "cell_type": "code",
   "execution_count": null,
   "metadata": {},
   "outputs": [],
   "source": [
    "def best_xgboost_clf(X : pd.DataFrame,\n",
    "                      y : pd.DataFrame, \n",
    "                      scoring='accuracy',\n",
    "                      objective='binary:logistic',\n",
    "                      eval_metric='logloss'):\n",
    "    '''\n",
    "    lightgbm参数寻优\\n\n",
    "    X：输入模型的特征\\n\n",
    "    y：输入模型的标签\\n\n",
    "    scoring：模型的评价标准，可取的值为 ['accuracy', 'precision', 'recall', 'f1', 'roc_auc']\\n\n",
    "    return: 输出最佳的模型\\n\n",
    "    详细内容见文档\n",
    "    '''\n",
    "    xgb.config_context()\n",
    "    # 定义参数网格\n",
    "    param_grid = {'eta':[0.05, 0.1, 0.2],   # 学习率\n",
    "                  'max_leaves':[31, 47, 63],  # 最大叶子节点数\n",
    "                  'max_depth':[5, 7, 10],  # 树的最大深度\n",
    "                  'subsample':[0.9],  # 每棵树使用的样本比例\n",
    "                  'colsample_bytree':[0.7,0.8, 1],  # 每棵树使用的特征比例\n",
    "                  'min_child_weight':[5, 10],  # 叶子节点所需的最小样本权重和 `1-10`\n",
    "                  'alpha':[0, 0.5, 1],  # L1 正则化项的权重，默认0\n",
    "                  'lambda':[0, 0.5, 1],}  # L2 正则化项的权重，默认1\n",
    "\n",
    "    model = xgb.XGBClassifier(objective=objective, eval_metric=eval_metric, verbosity=2)\n",
    "    \n",
    "    # 使用GridSearchCV进行超参数调优\n",
    "    grid_search = GridSearchCV(model, param_grid, scoring=scoring, \n",
    "                               n_jobs=-1, cv=5)\n",
    "    grid_search.fit(X, y)\n",
    "    print(f'XGBoost Best Params: ',grid_search.best_params_)\n",
    "    print(f'XGBoost Best Score: ', grid_search.best_score_)\n",
    "    return grid_search.best_estimator_"
   ]
  },
  {
   "cell_type": "code",
   "execution_count": 58,
   "metadata": {},
   "outputs": [
    {
     "name": "stdout",
     "output_type": "stream",
     "text": [
      "[16:16:31] INFO: C:\\Users\\dev-admin\\croot2\\xgboost-split_1675461376218\\work\\src\\tree\\updater_prune.cc:98: tree pruning end, 26 extra nodes, 0 pruned nodes, max_depth=5\n",
      "[16:16:31] INFO: C:\\Users\\dev-admin\\croot2\\xgboost-split_1675461376218\\work\\src\\tree\\updater_prune.cc:98: tree pruning end, 22 extra nodes, 0 pruned nodes, max_depth=5\n",
      "[16:16:31] INFO: C:\\Users\\dev-admin\\croot2\\xgboost-split_1675461376218\\work\\src\\tree\\updater_prune.cc:98: tree pruning end, 24 extra nodes, 0 pruned nodes, max_depth=5\n",
      "[16:16:31] INFO: C:\\Users\\dev-admin\\croot2\\xgboost-split_1675461376218\\work\\src\\tree\\updater_prune.cc:98: tree pruning end, 30 extra nodes, 0 pruned nodes, max_depth=5\n",
      "[16:16:31] INFO: C:\\Users\\dev-admin\\croot2\\xgboost-split_1675461376218\\work\\src\\tree\\updater_prune.cc:98: tree pruning end, 24 extra nodes, 0 pruned nodes, max_depth=5\n",
      "[16:16:31] INFO: C:\\Users\\dev-admin\\croot2\\xgboost-split_1675461376218\\work\\src\\tree\\updater_prune.cc:98: tree pruning end, 28 extra nodes, 0 pruned nodes, max_depth=5\n",
      "[16:16:31] INFO: C:\\Users\\dev-admin\\croot2\\xgboost-split_1675461376218\\work\\src\\tree\\updater_prune.cc:98: tree pruning end, 26 extra nodes, 0 pruned nodes, max_depth=5\n",
      "[16:16:31] INFO: C:\\Users\\dev-admin\\croot2\\xgboost-split_1675461376218\\work\\src\\tree\\updater_prune.cc:98: tree pruning end, 26 extra nodes, 0 pruned nodes, max_depth=5\n",
      "[16:16:31] INFO: C:\\Users\\dev-admin\\croot2\\xgboost-split_1675461376218\\work\\src\\tree\\updater_prune.cc:98: tree pruning end, 22 extra nodes, 0 pruned nodes, max_depth=5\n",
      "[16:16:31] INFO: C:\\Users\\dev-admin\\croot2\\xgboost-split_1675461376218\\work\\src\\tree\\updater_prune.cc:98: tree pruning end, 28 extra nodes, 0 pruned nodes, max_depth=5\n",
      "[16:16:31] INFO: C:\\Users\\dev-admin\\croot2\\xgboost-split_1675461376218\\work\\src\\tree\\updater_prune.cc:98: tree pruning end, 24 extra nodes, 0 pruned nodes, max_depth=5\n",
      "[16:16:31] INFO: C:\\Users\\dev-admin\\croot2\\xgboost-split_1675461376218\\work\\src\\tree\\updater_prune.cc:98: tree pruning end, 22 extra nodes, 0 pruned nodes, max_depth=5\n",
      "[16:16:31] INFO: C:\\Users\\dev-admin\\croot2\\xgboost-split_1675461376218\\work\\src\\tree\\updater_prune.cc:98: tree pruning end, 22 extra nodes, 0 pruned nodes, max_depth=5\n",
      "[16:16:31] INFO: C:\\Users\\dev-admin\\croot2\\xgboost-split_1675461376218\\work\\src\\tree\\updater_prune.cc:98: tree pruning end, 18 extra nodes, 0 pruned nodes, max_depth=5\n",
      "[16:16:31] INFO: C:\\Users\\dev-admin\\croot2\\xgboost-split_1675461376218\\work\\src\\tree\\updater_prune.cc:98: tree pruning end, 24 extra nodes, 0 pruned nodes, max_depth=5\n",
      "[16:16:31] INFO: C:\\Users\\dev-admin\\croot2\\xgboost-split_1675461376218\\work\\src\\tree\\updater_prune.cc:98: tree pruning end, 14 extra nodes, 0 pruned nodes, max_depth=5\n",
      "[16:16:31] INFO: C:\\Users\\dev-admin\\croot2\\xgboost-split_1675461376218\\work\\src\\tree\\updater_prune.cc:98: tree pruning end, 24 extra nodes, 0 pruned nodes, max_depth=5\n",
      "[16:16:31] INFO: C:\\Users\\dev-admin\\croot2\\xgboost-split_1675461376218\\work\\src\\tree\\updater_prune.cc:98: tree pruning end, 20 extra nodes, 0 pruned nodes, max_depth=5\n",
      "[16:16:31] INFO: C:\\Users\\dev-admin\\croot2\\xgboost-split_1675461376218\\work\\src\\tree\\updater_prune.cc:98: tree pruning end, 16 extra nodes, 0 pruned nodes, max_depth=5\n",
      "[16:16:31] INFO: C:\\Users\\dev-admin\\croot2\\xgboost-split_1675461376218\\work\\src\\tree\\updater_prune.cc:98: tree pruning end, 24 extra nodes, 0 pruned nodes, max_depth=5\n",
      "[16:16:31] INFO: C:\\Users\\dev-admin\\croot2\\xgboost-split_1675461376218\\work\\src\\tree\\updater_prune.cc:98: tree pruning end, 20 extra nodes, 0 pruned nodes, max_depth=5\n",
      "[16:16:31] INFO: C:\\Users\\dev-admin\\croot2\\xgboost-split_1675461376218\\work\\src\\tree\\updater_prune.cc:98: tree pruning end, 16 extra nodes, 0 pruned nodes, max_depth=5\n",
      "[16:16:31] INFO: C:\\Users\\dev-admin\\croot2\\xgboost-split_1675461376218\\work\\src\\tree\\updater_prune.cc:98: tree pruning end, 14 extra nodes, 0 pruned nodes, max_depth=5\n",
      "[16:16:31] INFO: C:\\Users\\dev-admin\\croot2\\xgboost-split_1675461376218\\work\\src\\tree\\updater_prune.cc:98: tree pruning end, 16 extra nodes, 0 pruned nodes, max_depth=5\n",
      "[16:16:31] INFO: C:\\Users\\dev-admin\\croot2\\xgboost-split_1675461376218\\work\\src\\tree\\updater_prune.cc:98: tree pruning end, 14 extra nodes, 0 pruned nodes, max_depth=5\n",
      "[16:16:31] INFO: C:\\Users\\dev-admin\\croot2\\xgboost-split_1675461376218\\work\\src\\tree\\updater_prune.cc:98: tree pruning end, 20 extra nodes, 0 pruned nodes, max_depth=5\n",
      "[16:16:31] INFO: C:\\Users\\dev-admin\\croot2\\xgboost-split_1675461376218\\work\\src\\tree\\updater_prune.cc:98: tree pruning end, 14 extra nodes, 0 pruned nodes, max_depth=5\n",
      "[16:16:31] INFO: C:\\Users\\dev-admin\\croot2\\xgboost-split_1675461376218\\work\\src\\tree\\updater_prune.cc:98: tree pruning end, 24 extra nodes, 0 pruned nodes, max_depth=5\n",
      "[16:16:31] INFO: C:\\Users\\dev-admin\\croot2\\xgboost-split_1675461376218\\work\\src\\tree\\updater_prune.cc:98: tree pruning end, 20 extra nodes, 0 pruned nodes, max_depth=5\n",
      "[16:16:31] INFO: C:\\Users\\dev-admin\\croot2\\xgboost-split_1675461376218\\work\\src\\tree\\updater_prune.cc:98: tree pruning end, 20 extra nodes, 0 pruned nodes, max_depth=5\n",
      "[16:16:31] INFO: C:\\Users\\dev-admin\\croot2\\xgboost-split_1675461376218\\work\\src\\tree\\updater_prune.cc:98: tree pruning end, 14 extra nodes, 0 pruned nodes, max_depth=5\n",
      "[16:16:31] INFO: C:\\Users\\dev-admin\\croot2\\xgboost-split_1675461376218\\work\\src\\tree\\updater_prune.cc:98: tree pruning end, 20 extra nodes, 0 pruned nodes, max_depth=5\n",
      "[16:16:31] INFO: C:\\Users\\dev-admin\\croot2\\xgboost-split_1675461376218\\work\\src\\tree\\updater_prune.cc:98: tree pruning end, 22 extra nodes, 0 pruned nodes, max_depth=5\n",
      "[16:16:31] INFO: C:\\Users\\dev-admin\\croot2\\xgboost-split_1675461376218\\work\\src\\tree\\updater_prune.cc:98: tree pruning end, 16 extra nodes, 0 pruned nodes, max_depth=5\n",
      "[16:16:31] INFO: C:\\Users\\dev-admin\\croot2\\xgboost-split_1675461376218\\work\\src\\tree\\updater_prune.cc:98: tree pruning end, 20 extra nodes, 0 pruned nodes, max_depth=5\n",
      "[16:16:31] INFO: C:\\Users\\dev-admin\\croot2\\xgboost-split_1675461376218\\work\\src\\tree\\updater_prune.cc:98: tree pruning end, 14 extra nodes, 0 pruned nodes, max_depth=5\n",
      "[16:16:31] INFO: C:\\Users\\dev-admin\\croot2\\xgboost-split_1675461376218\\work\\src\\tree\\updater_prune.cc:98: tree pruning end, 16 extra nodes, 0 pruned nodes, max_depth=5\n",
      "[16:16:31] INFO: C:\\Users\\dev-admin\\croot2\\xgboost-split_1675461376218\\work\\src\\tree\\updater_prune.cc:98: tree pruning end, 26 extra nodes, 0 pruned nodes, max_depth=5\n",
      "[16:16:31] INFO: C:\\Users\\dev-admin\\croot2\\xgboost-split_1675461376218\\work\\src\\tree\\updater_prune.cc:98: tree pruning end, 18 extra nodes, 0 pruned nodes, max_depth=5\n",
      "[16:16:31] INFO: C:\\Users\\dev-admin\\croot2\\xgboost-split_1675461376218\\work\\src\\tree\\updater_prune.cc:98: tree pruning end, 14 extra nodes, 0 pruned nodes, max_depth=5\n",
      "[16:16:31] INFO: C:\\Users\\dev-admin\\croot2\\xgboost-split_1675461376218\\work\\src\\tree\\updater_prune.cc:98: tree pruning end, 20 extra nodes, 0 pruned nodes, max_depth=5\n",
      "[16:16:31] INFO: C:\\Users\\dev-admin\\croot2\\xgboost-split_1675461376218\\work\\src\\tree\\updater_prune.cc:98: tree pruning end, 14 extra nodes, 0 pruned nodes, max_depth=5\n",
      "[16:16:31] INFO: C:\\Users\\dev-admin\\croot2\\xgboost-split_1675461376218\\work\\src\\tree\\updater_prune.cc:98: tree pruning end, 14 extra nodes, 0 pruned nodes, max_depth=5\n",
      "[16:16:31] INFO: C:\\Users\\dev-admin\\croot2\\xgboost-split_1675461376218\\work\\src\\tree\\updater_prune.cc:98: tree pruning end, 16 extra nodes, 0 pruned nodes, max_depth=5\n",
      "[16:16:31] INFO: C:\\Users\\dev-admin\\croot2\\xgboost-split_1675461376218\\work\\src\\tree\\updater_prune.cc:98: tree pruning end, 22 extra nodes, 0 pruned nodes, max_depth=5\n",
      "[16:16:31] INFO: C:\\Users\\dev-admin\\croot2\\xgboost-split_1675461376218\\work\\src\\tree\\updater_prune.cc:98: tree pruning end, 16 extra nodes, 0 pruned nodes, max_depth=5\n",
      "[16:16:31] INFO: C:\\Users\\dev-admin\\croot2\\xgboost-split_1675461376218\\work\\src\\tree\\updater_prune.cc:98: tree pruning end, 18 extra nodes, 0 pruned nodes, max_depth=5\n",
      "[16:16:31] INFO: C:\\Users\\dev-admin\\croot2\\xgboost-split_1675461376218\\work\\src\\tree\\updater_prune.cc:98: tree pruning end, 12 extra nodes, 0 pruned nodes, max_depth=5\n",
      "[16:16:31] INFO: C:\\Users\\dev-admin\\croot2\\xgboost-split_1675461376218\\work\\src\\tree\\updater_prune.cc:98: tree pruning end, 14 extra nodes, 0 pruned nodes, max_depth=5\n",
      "[16:16:31] INFO: C:\\Users\\dev-admin\\croot2\\xgboost-split_1675461376218\\work\\src\\tree\\updater_prune.cc:98: tree pruning end, 18 extra nodes, 0 pruned nodes, max_depth=5\n",
      "[16:16:31] INFO: C:\\Users\\dev-admin\\croot2\\xgboost-split_1675461376218\\work\\src\\tree\\updater_prune.cc:98: tree pruning end, 18 extra nodes, 0 pruned nodes, max_depth=5\n",
      "[16:16:31] INFO: C:\\Users\\dev-admin\\croot2\\xgboost-split_1675461376218\\work\\src\\tree\\updater_prune.cc:98: tree pruning end, 18 extra nodes, 0 pruned nodes, max_depth=5\n",
      "[16:16:31] INFO: C:\\Users\\dev-admin\\croot2\\xgboost-split_1675461376218\\work\\src\\tree\\updater_prune.cc:98: tree pruning end, 14 extra nodes, 0 pruned nodes, max_depth=5\n",
      "[16:16:31] INFO: C:\\Users\\dev-admin\\croot2\\xgboost-split_1675461376218\\work\\src\\tree\\updater_prune.cc:98: tree pruning end, 24 extra nodes, 0 pruned nodes, max_depth=5\n",
      "[16:16:31] INFO: C:\\Users\\dev-admin\\croot2\\xgboost-split_1675461376218\\work\\src\\tree\\updater_prune.cc:98: tree pruning end, 20 extra nodes, 0 pruned nodes, max_depth=5\n",
      "[16:16:31] INFO: C:\\Users\\dev-admin\\croot2\\xgboost-split_1675461376218\\work\\src\\tree\\updater_prune.cc:98: tree pruning end, 12 extra nodes, 0 pruned nodes, max_depth=5\n",
      "[16:16:31] INFO: C:\\Users\\dev-admin\\croot2\\xgboost-split_1675461376218\\work\\src\\tree\\updater_prune.cc:98: tree pruning end, 22 extra nodes, 0 pruned nodes, max_depth=5\n",
      "[16:16:31] INFO: C:\\Users\\dev-admin\\croot2\\xgboost-split_1675461376218\\work\\src\\tree\\updater_prune.cc:98: tree pruning end, 26 extra nodes, 0 pruned nodes, max_depth=5\n",
      "[16:16:31] INFO: C:\\Users\\dev-admin\\croot2\\xgboost-split_1675461376218\\work\\src\\tree\\updater_prune.cc:98: tree pruning end, 12 extra nodes, 0 pruned nodes, max_depth=5\n",
      "[16:16:31] INFO: C:\\Users\\dev-admin\\croot2\\xgboost-split_1675461376218\\work\\src\\tree\\updater_prune.cc:98: tree pruning end, 20 extra nodes, 0 pruned nodes, max_depth=5\n",
      "[16:16:31] INFO: C:\\Users\\dev-admin\\croot2\\xgboost-split_1675461376218\\work\\src\\tree\\updater_prune.cc:98: tree pruning end, 16 extra nodes, 0 pruned nodes, max_depth=5\n",
      "[16:16:31] INFO: C:\\Users\\dev-admin\\croot2\\xgboost-split_1675461376218\\work\\src\\tree\\updater_prune.cc:98: tree pruning end, 12 extra nodes, 0 pruned nodes, max_depth=5\n",
      "[16:16:31] INFO: C:\\Users\\dev-admin\\croot2\\xgboost-split_1675461376218\\work\\src\\tree\\updater_prune.cc:98: tree pruning end, 20 extra nodes, 0 pruned nodes, max_depth=5\n",
      "[16:16:31] INFO: C:\\Users\\dev-admin\\croot2\\xgboost-split_1675461376218\\work\\src\\tree\\updater_prune.cc:98: tree pruning end, 20 extra nodes, 0 pruned nodes, max_depth=5\n",
      "[16:16:31] INFO: C:\\Users\\dev-admin\\croot2\\xgboost-split_1675461376218\\work\\src\\tree\\updater_prune.cc:98: tree pruning end, 20 extra nodes, 0 pruned nodes, max_depth=5\n",
      "[16:16:31] INFO: C:\\Users\\dev-admin\\croot2\\xgboost-split_1675461376218\\work\\src\\tree\\updater_prune.cc:98: tree pruning end, 20 extra nodes, 0 pruned nodes, max_depth=5\n",
      "[16:16:31] INFO: C:\\Users\\dev-admin\\croot2\\xgboost-split_1675461376218\\work\\src\\tree\\updater_prune.cc:98: tree pruning end, 18 extra nodes, 0 pruned nodes, max_depth=5\n",
      "[16:16:31] INFO: C:\\Users\\dev-admin\\croot2\\xgboost-split_1675461376218\\work\\src\\tree\\updater_prune.cc:98: tree pruning end, 20 extra nodes, 0 pruned nodes, max_depth=5\n",
      "[16:16:31] INFO: C:\\Users\\dev-admin\\croot2\\xgboost-split_1675461376218\\work\\src\\tree\\updater_prune.cc:98: tree pruning end, 12 extra nodes, 0 pruned nodes, max_depth=5\n",
      "[16:16:31] INFO: C:\\Users\\dev-admin\\croot2\\xgboost-split_1675461376218\\work\\src\\tree\\updater_prune.cc:98: tree pruning end, 16 extra nodes, 0 pruned nodes, max_depth=5\n",
      "[16:16:31] INFO: C:\\Users\\dev-admin\\croot2\\xgboost-split_1675461376218\\work\\src\\tree\\updater_prune.cc:98: tree pruning end, 22 extra nodes, 0 pruned nodes, max_depth=5\n",
      "[16:16:31] INFO: C:\\Users\\dev-admin\\croot2\\xgboost-split_1675461376218\\work\\src\\tree\\updater_prune.cc:98: tree pruning end, 16 extra nodes, 0 pruned nodes, max_depth=5\n",
      "[16:16:31] INFO: C:\\Users\\dev-admin\\croot2\\xgboost-split_1675461376218\\work\\src\\tree\\updater_prune.cc:98: tree pruning end, 20 extra nodes, 0 pruned nodes, max_depth=5\n",
      "[16:16:31] INFO: C:\\Users\\dev-admin\\croot2\\xgboost-split_1675461376218\\work\\src\\tree\\updater_prune.cc:98: tree pruning end, 18 extra nodes, 0 pruned nodes, max_depth=5\n",
      "[16:16:31] INFO: C:\\Users\\dev-admin\\croot2\\xgboost-split_1675461376218\\work\\src\\tree\\updater_prune.cc:98: tree pruning end, 18 extra nodes, 0 pruned nodes, max_depth=5\n",
      "[16:16:31] INFO: C:\\Users\\dev-admin\\croot2\\xgboost-split_1675461376218\\work\\src\\tree\\updater_prune.cc:98: tree pruning end, 16 extra nodes, 0 pruned nodes, max_depth=5\n",
      "[16:16:31] INFO: C:\\Users\\dev-admin\\croot2\\xgboost-split_1675461376218\\work\\src\\tree\\updater_prune.cc:98: tree pruning end, 18 extra nodes, 0 pruned nodes, max_depth=5\n",
      "[16:16:31] INFO: C:\\Users\\dev-admin\\croot2\\xgboost-split_1675461376218\\work\\src\\tree\\updater_prune.cc:98: tree pruning end, 18 extra nodes, 0 pruned nodes, max_depth=5\n",
      "[16:16:31] INFO: C:\\Users\\dev-admin\\croot2\\xgboost-split_1675461376218\\work\\src\\tree\\updater_prune.cc:98: tree pruning end, 20 extra nodes, 0 pruned nodes, max_depth=5\n",
      "[16:16:31] INFO: C:\\Users\\dev-admin\\croot2\\xgboost-split_1675461376218\\work\\src\\tree\\updater_prune.cc:98: tree pruning end, 22 extra nodes, 0 pruned nodes, max_depth=5\n",
      "[16:16:31] INFO: C:\\Users\\dev-admin\\croot2\\xgboost-split_1675461376218\\work\\src\\tree\\updater_prune.cc:98: tree pruning end, 16 extra nodes, 0 pruned nodes, max_depth=5\n",
      "[16:16:31] INFO: C:\\Users\\dev-admin\\croot2\\xgboost-split_1675461376218\\work\\src\\tree\\updater_prune.cc:98: tree pruning end, 16 extra nodes, 0 pruned nodes, max_depth=5\n",
      "[16:16:31] INFO: C:\\Users\\dev-admin\\croot2\\xgboost-split_1675461376218\\work\\src\\tree\\updater_prune.cc:98: tree pruning end, 18 extra nodes, 0 pruned nodes, max_depth=5\n",
      "[16:16:31] INFO: C:\\Users\\dev-admin\\croot2\\xgboost-split_1675461376218\\work\\src\\tree\\updater_prune.cc:98: tree pruning end, 22 extra nodes, 0 pruned nodes, max_depth=5\n",
      "[16:16:31] INFO: C:\\Users\\dev-admin\\croot2\\xgboost-split_1675461376218\\work\\src\\tree\\updater_prune.cc:98: tree pruning end, 20 extra nodes, 0 pruned nodes, max_depth=5\n",
      "[16:16:31] INFO: C:\\Users\\dev-admin\\croot2\\xgboost-split_1675461376218\\work\\src\\tree\\updater_prune.cc:98: tree pruning end, 18 extra nodes, 0 pruned nodes, max_depth=5\n",
      "[16:16:31] INFO: C:\\Users\\dev-admin\\croot2\\xgboost-split_1675461376218\\work\\src\\tree\\updater_prune.cc:98: tree pruning end, 20 extra nodes, 0 pruned nodes, max_depth=5\n",
      "[16:16:31] INFO: C:\\Users\\dev-admin\\croot2\\xgboost-split_1675461376218\\work\\src\\tree\\updater_prune.cc:98: tree pruning end, 16 extra nodes, 0 pruned nodes, max_depth=5\n",
      "[16:16:31] INFO: C:\\Users\\dev-admin\\croot2\\xgboost-split_1675461376218\\work\\src\\tree\\updater_prune.cc:98: tree pruning end, 14 extra nodes, 0 pruned nodes, max_depth=5\n",
      "[16:16:31] INFO: C:\\Users\\dev-admin\\croot2\\xgboost-split_1675461376218\\work\\src\\tree\\updater_prune.cc:98: tree pruning end, 10 extra nodes, 0 pruned nodes, max_depth=5\n",
      "[16:16:31] INFO: C:\\Users\\dev-admin\\croot2\\xgboost-split_1675461376218\\work\\src\\tree\\updater_prune.cc:98: tree pruning end, 14 extra nodes, 0 pruned nodes, max_depth=5\n",
      "[16:16:31] INFO: C:\\Users\\dev-admin\\croot2\\xgboost-split_1675461376218\\work\\src\\tree\\updater_prune.cc:98: tree pruning end, 12 extra nodes, 0 pruned nodes, max_depth=5\n",
      "[16:16:31] INFO: C:\\Users\\dev-admin\\croot2\\xgboost-split_1675461376218\\work\\src\\tree\\updater_prune.cc:98: tree pruning end, 16 extra nodes, 0 pruned nodes, max_depth=5\n",
      "[16:16:31] INFO: C:\\Users\\dev-admin\\croot2\\xgboost-split_1675461376218\\work\\src\\tree\\updater_prune.cc:98: tree pruning end, 20 extra nodes, 0 pruned nodes, max_depth=5\n",
      "[16:16:31] INFO: C:\\Users\\dev-admin\\croot2\\xgboost-split_1675461376218\\work\\src\\tree\\updater_prune.cc:98: tree pruning end, 20 extra nodes, 0 pruned nodes, max_depth=5\n",
      "[16:16:31] INFO: C:\\Users\\dev-admin\\croot2\\xgboost-split_1675461376218\\work\\src\\tree\\updater_prune.cc:98: tree pruning end, 22 extra nodes, 0 pruned nodes, max_depth=5\n",
      "[16:16:31] INFO: C:\\Users\\dev-admin\\croot2\\xgboost-split_1675461376218\\work\\src\\tree\\updater_prune.cc:98: tree pruning end, 18 extra nodes, 0 pruned nodes, max_depth=5\n",
      "[16:16:31] INFO: C:\\Users\\dev-admin\\croot2\\xgboost-split_1675461376218\\work\\src\\tree\\updater_prune.cc:98: tree pruning end, 12 extra nodes, 0 pruned nodes, max_depth=5\n",
      "[16:16:31] INFO: C:\\Users\\dev-admin\\croot2\\xgboost-split_1675461376218\\work\\src\\tree\\updater_prune.cc:98: tree pruning end, 18 extra nodes, 0 pruned nodes, max_depth=5\n",
      "[16:16:31] INFO: C:\\Users\\dev-admin\\croot2\\xgboost-split_1675461376218\\work\\src\\tree\\updater_prune.cc:98: tree pruning end, 22 extra nodes, 0 pruned nodes, max_depth=5\n",
      "XGBoost Best Params:  {'alpha': 0, 'colsample_bytree': 0.8, 'eta': 0.2, 'lambda': 0.5, 'max_depth': 5, 'max_leaves': 31, 'min_child_weight': 5, 'subsample': 0.9}\n",
      "XGBoost Best Score:  0.8428786642395331\n"
     ]
    }
   ],
   "source": [
    "xgboost = best_xgboost_clf(X, y, scoring='accuracy')"
   ]
  },
  {
   "cell_type": "code",
   "execution_count": 59,
   "metadata": {},
   "outputs": [
    {
     "name": "stdout",
     "output_type": "stream",
     "text": [
      "xgboost is successfully saved!\n",
      "xgboost is successfully used to test!\n"
     ]
    },
    {
     "data": {
      "text/plain": [
       "True"
      ]
     },
     "execution_count": 59,
     "metadata": {},
     "output_type": "execute_result"
    }
   ],
   "source": [
    "save_model(xgboost, 'xgboost')\n",
    "submit('xgboost', test)"
   ]
  }
 ],
 "metadata": {
  "kernelspec": {
   "display_name": "base",
   "language": "python",
   "name": "python3"
  },
  "language_info": {
   "codemirror_mode": {
    "name": "ipython",
    "version": 3
   },
   "file_extension": ".py",
   "mimetype": "text/x-python",
   "name": "python",
   "nbconvert_exporter": "python",
   "pygments_lexer": "ipython3",
   "version": "3.11.4"
  }
 },
 "nbformat": 4,
 "nbformat_minor": 2
}
