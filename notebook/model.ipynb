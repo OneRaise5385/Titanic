{
 "cells": [
  {
   "cell_type": "markdown",
   "metadata": {},
   "source": [
    "# 建模"
   ]
  },
  {
   "cell_type": "code",
   "execution_count": 2,
   "metadata": {},
   "outputs": [],
   "source": [
    "\n",
    "import pandas as pd\n",
    "import joblib\n",
    "from sklearn.model_selection import GridSearchCV\n",
    "from sklearn.neighbors import KNeighborsClassifier\n",
    "from sklearn.svm import SVC\n",
    "from sklearn.tree import DecisionTreeClassifier\n",
    "from sklearn.ensemble import RandomForestClassifier\n",
    "from sklearn.ensemble import AdaBoostClassifier # \n",
    "from sklearn.naive_bayes import GaussianNB\n",
    "from sklearn.naive_bayes import MultinomialNB\n",
    "from sklearn.naive_bayes import BernoulliNB\n",
    "\n",
    "\n",
    "from sklearn.discriminant_analysis import QuadraticDiscriminantAnalysis\n",
    "from sklearn.gaussian_process import GaussianProcessClassifier\n",
    "from sklearn.gaussian_process.kernels import RBF\n",
    "from sklearn.inspection import DecisionBoundaryDisplay\n",
    "from sklearn.neighbors import KNeighborsClassifier\n",
    "from sklearn.neural_network import MLPClassifier"
   ]
  },
  {
   "cell_type": "code",
   "execution_count": 3,
   "metadata": {},
   "outputs": [],
   "source": [
    "train = pd.read_csv('../input/train_final.csv')\n",
    "test = pd.read_csv('../input/test_final.csv')\n",
    "\n",
    "X = train.drop(['Survived'], axis=1)\n",
    "y = train['Survived']\n",
    "\n",
    "\n",
    "def save_model(model, name):\n",
    "    '''保存模型'''\n",
    "    joblib.dump(model, f'../models/{name}.pkl')\n",
    "    print(f'{name} is successfully saved!')\n",
    "    return True\n",
    "\n",
    "\n",
    "def submit(model_name : str,\n",
    "           test : pd.DataFrame):\n",
    "    ''' \n",
    "    保存提交（预测）的数据\\n\n",
    "    model_name: 模型的名称（只传入点号之前的名称）\\n\n",
    "    test: 需要预测的数据集\n",
    "    '''\n",
    "    # 载入模型\n",
    "    model = joblib.load(f'../models/{model_name}.pkl')\n",
    "    # 使用模型预测\n",
    "    y_pred = model.predict(test)\n",
    "    # 保存提交\n",
    "    submission = pd.read_csv('../submission/submission.csv')\n",
    "    submission['Survived'] = y_pred.astype(int)\n",
    "    submission.to_csv(f'../submission/{model_name}.csv', index=None)\n",
    "    print(f'{model_name} is successfully used to test!')\n",
    "    return True"
   ]
  },
  {
   "cell_type": "code",
   "execution_count": null,
   "metadata": {},
   "outputs": [],
   "source": [
    "names = [\n",
    "    \"Nearest Neighbors\",\n",
    "    \"Gaussian Process\",\n",
    "    \"Neural Net\",\n",
    "    \"AdaBoost\",\n",
    "    \"QDA\",\n",
    "]\n",
    "\n",
    "classifiers = [\n",
    "    KNeighborsClassifier(3),\n",
    "    GaussianProcessClassifier(1.0 * RBF(1.0), random_state=42),\n",
    "    MLPClassifier(alpha=1, max_iter=1000, random_state=42),\n",
    "    AdaBoostClassifier(random_state=42),\n",
    "    QuadraticDiscriminantAnalysis(),\n",
    "]"
   ]
  },
  {
   "cell_type": "markdown",
   "metadata": {},
   "source": [
    "# Naive Bayes"
   ]
  },
  {
   "cell_type": "code",
   "execution_count": 11,
   "metadata": {},
   "outputs": [],
   "source": [
    "def best_bayes_clf(X : pd.DataFrame,\n",
    "                   y : pd.DataFrame, \n",
    "                   scoring = 'accuracy',\n",
    "                   model_name = 'GaussianNB'):\n",
    "    '''\n",
    "    ***朴素贝叶斯*** 分类器模型寻优\\n\n",
    "    X：输入模型的特征\\n\n",
    "    y：输入模型的标签\\n\n",
    "    scoring：模型的评价标准，可取的值为 ['accuracy', 'precision', 'recall', 'f1', 'roc_auc']\\n\n",
    "    model: \n",
    "        GaussianNB：假设特征服从高斯分布（正态分布）。\n",
    "        MultinomialNB：适用于离散特征（如文本分类中的词频或 TF-IDF 值）。\n",
    "        BernoulliNB：适用于二值特征（如文本分类中的是否出现某个词）。\n",
    "        \n",
    "    return: 输出最佳的随机森林模型\n",
    "    '''\n",
    "    # 模型\n",
    "    if model_name == 'GaussianNB':\n",
    "        model = GaussianNB()\n",
    "        param_grid = {'var_smoothing':[1e-9, 1e-8, 1e-7, 1e-6, 1e-5]}\n",
    "        \n",
    "    elif model_name == 'MultinomialNB':\n",
    "        model = MultinomialNB()\n",
    "        param_grid = {'alpha': [0.1, 0.5, 1.0, 1.5, 2.0],  # 平滑参数\n",
    "                      'fit_prior': [True, False]}  # 是否学习类别的先验概率\n",
    "        \n",
    "    elif model_name == 'BernoulliNB':\n",
    "        model = BernoulliNB()\n",
    "        param_grid = {'alpha': [0.1, 0.5, 1.0, 1.5, 2.0],  # 平滑参数\n",
    "                      'fit_prior': [True, False],          # 是否学习类别的先验概率\n",
    "                      'binarize': [0.0, 0.5, 1.0]}          # 特征二值化的阈值\n",
    "    \n",
    "    # 使用GridSearchCV进行超参数调优\n",
    "    grid_search = GridSearchCV(model, param_grid, scoring=scoring, \n",
    "                               n_jobs=-1, cv=5, verbose=2)\n",
    "    grid_search.fit(X, y)   \n",
    "    # 打印最佳参数和得分\n",
    "    print(f'GaussianNB Best Params: ',grid_search.best_params_)\n",
    "    print(f'GaussianNB Best Score: ', grid_search.best_score_)      \n",
    "    return grid_search.best_estimator_"
   ]
  },
  {
   "cell_type": "code",
   "execution_count": 12,
   "metadata": {},
   "outputs": [
    {
     "name": "stdout",
     "output_type": "stream",
     "text": [
      "Fitting 5 folds for each of 5 candidates, totalling 25 fits\n",
      "GaussianNB Best Params:  {'var_smoothing': 1e-09}\n",
      "GaussianNB Best Score:  0.817048521750047\n",
      "Fitting 5 folds for each of 30 candidates, totalling 150 fits\n",
      "GaussianNB Best Params:  {'alpha': 0.1, 'binarize': 0.5, 'fit_prior': True}\n",
      "GaussianNB Best Score:  0.8047015253279769\n"
     ]
    }
   ],
   "source": [
    "bayes_gaussian = best_bayes_clf(X, y, scoring='accuracy', model_name='GaussianNB')\n",
    "bayes_bernoulliNB = best_bayes_clf(X, y, scoring='accuracy', model_name='BernoulliNB')"
   ]
  }
 ],
 "metadata": {
  "kernelspec": {
   "display_name": "base",
   "language": "python",
   "name": "python3"
  },
  "language_info": {
   "codemirror_mode": {
    "name": "ipython",
    "version": 3
   },
   "file_extension": ".py",
   "mimetype": "text/x-python",
   "name": "python",
   "nbconvert_exporter": "python",
   "pygments_lexer": "ipython3",
   "version": "3.11.4"
  }
 },
 "nbformat": 4,
 "nbformat_minor": 2
}
