{
 "cells": [
  {
   "cell_type": "markdown",
   "metadata": {},
   "source": [
    "# 建模"
   ]
  },
  {
   "cell_type": "code",
   "execution_count": 50,
   "metadata": {},
   "outputs": [],
   "source": [
    "import pandas as pd\n",
    "import joblib\n",
    "from tools import data_overview\n",
    "from sklearn.model_selection import train_test_split\n",
    "from sklearn.metrics import accuracy_score\n",
    "from sklearn.neighbors import KNeighborsClassifier\n",
    "from sklearn.svm import SVC\n",
    "from sklearn.model_selection import GridSearchCV\n",
    "\n",
    "\n",
    "\n",
    "from sklearn.discriminant_analysis import QuadraticDiscriminantAnalysis\n",
    "from sklearn.ensemble import AdaBoostClassifier, RandomForestClassifier\n",
    "from sklearn.gaussian_process import GaussianProcessClassifier\n",
    "from sklearn.gaussian_process.kernels import RBF\n",
    "from sklearn.inspection import DecisionBoundaryDisplay\n",
    "from sklearn.model_selection import train_test_split\n",
    "from sklearn.naive_bayes import GaussianNB\n",
    "from sklearn.neighbors import KNeighborsClassifier\n",
    "from sklearn.neural_network import MLPClassifier\n",
    "from sklearn.preprocessing import StandardScaler\n",
    "from sklearn.tree import DecisionTreeClassifier"
   ]
  },
  {
   "cell_type": "code",
   "execution_count": null,
   "metadata": {},
   "outputs": [],
   "source": [
    "names = [\n",
    "    \"Nearest Neighbors\",\n",
    "    \"Linear SVM\",\n",
    "    \"RBF SVM\",\n",
    "    \"Gaussian Process\",\n",
    "    \"Decision Tree\",\n",
    "    \"Random Forest\",\n",
    "    \"Neural Net\",\n",
    "    \"AdaBoost\",\n",
    "    \"Naive Bayes\",\n",
    "    \"QDA\",\n",
    "]\n",
    "\n",
    "classifiers = [\n",
    "    KNeighborsClassifier(3),\n",
    "    SVC(kernel=\"linear\", C=0.025, random_state=42),\n",
    "    SVC(gamma=2, C=1, random_state=42),\n",
    "    GaussianProcessClassifier(1.0 * RBF(1.0), random_state=42),\n",
    "    DecisionTreeClassifier(max_depth=5, random_state=42),\n",
    "    RandomForestClassifier(\n",
    "        max_depth=5, n_estimators=10, max_features=1, random_state=42\n",
    "    ),\n",
    "    MLPClassifier(alpha=1, max_iter=1000, random_state=42),\n",
    "    AdaBoostClassifier(random_state=42),\n",
    "    GaussianNB(),\n",
    "    QuadraticDiscriminantAnalysis(),\n",
    "]"
   ]
  },
  {
   "cell_type": "code",
   "execution_count": null,
   "metadata": {},
   "outputs": [],
   "source": [
    "train = pd.read_csv('../input/train_final.csv')\n",
    "test = pd.read_csv('../input/test_final.csv')\n",
    "\n",
    "X = train.drop(['Survived'], axis=1)\n",
    "y = train['Survived']"
   ]
  },
  {
   "cell_type": "markdown",
   "metadata": {},
   "source": [
    "# KNN"
   ]
  },
  {
   "cell_type": "markdown",
   "metadata": {},
   "source": [
    "# SVC"
   ]
  },
  {
   "cell_type": "code",
   "execution_count": null,
   "metadata": {},
   "outputs": [
    {
     "name": "stdout",
     "output_type": "stream",
     "text": [
      "SVCrbf Best Params:  {'C': 0.5, 'coef0': 0, 'degree': 2, 'gamma': 'scale', 'kernel': 'rbf'}\n",
      "SVCrbf Best Score:  0.8338773460548616\n",
      "SVClinear Best Params:  {'C': 0.05, 'coef0': 0, 'degree': 2, 'gamma': 'scale', 'kernel': 'linear'}\n",
      "SVClinear Best Score:  0.8282656455966355\n",
      "SVCpoly Best Params:  {'C': 0.025, 'coef0': 1, 'degree': 4, 'gamma': 'auto', 'kernel': 'poly'}\n",
      "SVCpoly Best Score:  0.8372418555018518\n",
      "SVCsigmoid Best Params:  {'C': 0.1, 'coef0': 0.1, 'degree': 2, 'gamma': 'scale', 'kernel': 'sigmoid'}\n",
      "SVCsigmoid Best Score:  0.7654321762601218\n"
     ]
    }
   ],
   "source": [
    "def best_svc(X : pd.DataFrame,\n",
    "             y : pd.DataFrame, \n",
    "             kernel = 'rbf',\n",
    "             scoring='accuracy'):\n",
    "    '''\n",
    "    SVC参数寻优\\n\n",
    "    X：输入模型的特征\\n\n",
    "    y：输入模型的标签\\n\n",
    "    kernel：选择使用哪种和函数，取值为 ['rbf', 'linear', 'poly', 'sigmoid']\\n\n",
    "    scoring：模型的评价标准，可取的值为 ['accuracy', 'precision', 'recall', 'f1', 'roc_auc']\n",
    "    '''\n",
    "    # 定义参数网格\n",
    "    param_grid = {'C': [0.025, 0.05, 0.1, 0.5, 1, 10],\n",
    "                'kernel': [kernel],\n",
    "                'degree': [2, 3, 4],\n",
    "                'gamma': ['scale', 'auto'],\n",
    "                'coef0': [0, 0.1, 0.5, 1]}\n",
    "    model = SVC()\n",
    "\n",
    "    # 使用GridSearchCV进行超参数调优\n",
    "    grid_search = GridSearchCV(model, param_grid, scoring=scoring, \n",
    "                               n_jobs=-1, cv=5)\n",
    "    grid_search.fit(X, y)\n",
    "    print(f'SVC_{kernel} Best Params: ',grid_search.best_params_)\n",
    "    print(f'SVC_{kernel} Best Score: ', grid_search.best_score_)\n",
    "    return grid_search.best_estimator_\n",
    "\n",
    "# SVC\n",
    "svc_rbf = best_svc(X, y, kernel='rbf' ,scoring='accuracy')\n",
    "svc_linear = best_svc(X, y, kernel='linear' ,scoring='accuracy')\n",
    "svc_poly = best_svc(X, y, kernel='poly' ,scoring='accuracy')\n",
    "svc_sigmoid = best_svc(X, y, kernel='sigmoid' ,scoring='accuracy')\n",
    "\n",
    "# 保存模型\n",
    "joblib.dump(svc_rbf, '../models/svc_rbf.pkl')\n",
    "joblib.dump(svc_linear, '../models/svc_linear.pkl')\n",
    "joblib.dump(svc_poly, '../models/svc_poly.pkl')\n",
    "joblib.dump(svc_sigmoid, '../models/svc_sigmoid.pkl')"
   ]
  },
  {
   "cell_type": "code",
   "execution_count": 82,
   "metadata": {},
   "outputs": [],
   "source": [
    "# 载入模型\n",
    "svc = joblib.load('../models/svc.pkl')\n",
    "\n",
    "# 使用模型预测\n",
    "y_pred = svc.predict(test)\n",
    "\n",
    "# 保存提交\n",
    "submission = pd.read_csv('../submission/submission.csv')\n",
    "submission['Survived'] = y_pred.astype(int)\n",
    "submission.to_csv('../submission/submission_svc.csv', index=None)"
   ]
  },
  {
   "cell_type": "code",
   "execution_count": null,
   "metadata": {},
   "outputs": [],
   "source": [
    "def my_function(param1, param2, param3):\n",
    "    allowed_values_param1 = [value1, value2, value3]\n",
    "    allowed_values_param2 = [value4, value5, value6]\n",
    "    allowed_values_param3 = [value7, value8, value9]\n",
    "\n",
    "    if param1 not in allowed_values_param1:\n",
    "        raise ValueError(f\"param1 must be one of {allowed_values_param1}\")\n",
    "    if param2 not in allowed_values_param2:\n",
    "        raise ValueError(f\"param2 must be one of {allowed_values_param2}\")\n",
    "    if param3 not in allowed_values_param3:\n",
    "        raise ValueError(f\"param3 must be one of {allowed_values_param3}\")\n",
    "\n",
    "    # 函数体\n",
    "    pass"
   ]
  }
 ],
 "metadata": {
  "kernelspec": {
   "display_name": "base",
   "language": "python",
   "name": "python3"
  },
  "language_info": {
   "codemirror_mode": {
    "name": "ipython",
    "version": 3
   },
   "file_extension": ".py",
   "mimetype": "text/x-python",
   "name": "python",
   "nbconvert_exporter": "python",
   "pygments_lexer": "ipython3",
   "version": "3.11.4"
  }
 },
 "nbformat": 4,
 "nbformat_minor": 2
}
