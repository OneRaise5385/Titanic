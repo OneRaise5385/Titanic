{
 "cells": [
  {
   "cell_type": "markdown",
   "metadata": {},
   "source": [
    "# 建模"
   ]
  },
  {
   "cell_type": "code",
   "execution_count": 3,
   "metadata": {},
   "outputs": [],
   "source": [
    "import pandas as pd\n",
    "import joblib\n",
    "import psutil\n",
    "from sklearn.model_selection import GridSearchCV\n",
    "import lightgbm as lgb"
   ]
  },
  {
   "cell_type": "code",
   "execution_count": 4,
   "metadata": {},
   "outputs": [],
   "source": [
    "train = pd.read_csv('../input/train_final.csv')\n",
    "test = pd.read_csv('../input/test_final.csv')\n",
    "\n",
    "X = train.drop(['Survived'], axis=1)\n",
    "y = train['Survived']\n",
    "\n",
    "\n",
    "def save_model(model, name):\n",
    "    '''保存模型'''\n",
    "    joblib.dump(model, f'../models/{name}.pkl')\n",
    "    print(f'{name} is successfully saved!')\n",
    "    return True\n",
    "\n",
    "\n",
    "def submit(model_name : str,\n",
    "           test : pd.DataFrame):\n",
    "    ''' \n",
    "    保存提交（预测）的数据\\n\n",
    "    model_name: 模型的名称（只传入点号之前的名称）\\n\n",
    "    test: 需要预测的数据集\n",
    "    '''\n",
    "    # 载入模型\n",
    "    model = joblib.load(f'../models/{model_name}.pkl')\n",
    "    # 使用模型预测\n",
    "    y_pred = model.predict(test)\n",
    "    # 保存提交\n",
    "    submission = pd.read_csv('../submission/submission.csv')\n",
    "    submission['Survived'] = y_pred.astype(int)\n",
    "    submission.to_csv(f'../submission/{model_name}.csv', index=None)\n",
    "    print(f'{model_name} is successfully used to test!')\n",
    "    return True\n",
    "\n",
    "def memory():\n",
    "    mem = psutil.virtual_memory()\n",
    "    print(f\"可用内存: {mem.available / 1024 / 1024:.2f} MB\")\n",
    "    print(f\"内存使用率: {mem.percent}%\")"
   ]
  },
  {
   "cell_type": "code",
   "execution_count": null,
   "metadata": {},
   "outputs": [],
   "source": [
    "def best_lightgbm_clf(X : pd.DataFrame,\n",
    "                      y : pd.DataFrame, \n",
    "                      scoring='accuracy',\n",
    "                      boosting_type = 'gbdt'):\n",
    "    '''\n",
    "    lightgbm参数寻优\\n\n",
    "    X：输入模型的特征\\n\n",
    "    y：输入模型的标签\\n\n",
    "    scoring：模型的评价标准，可取的值为 ['accuracy', 'precision', 'recall', 'f1', 'roc_auc']\\n\n",
    "    boosting_type:\n",
    "        gbdt: 训练速度快，适用于大多数场景\n",
    "        dart: 数据量小且容易过拟合的场景\n",
    "        rf: 高维数据或需要强正则化的场景，防止过拟合的能力强\n",
    "        \n",
    "    return: 输出最佳的模型\n",
    "    '''\n",
    "    # 定义参数网格\n",
    "    param_grid = {'num_leaves': [31, 63],  # [31, 63]\n",
    "                  'max_depth': [3, 5, 7, -1],  # [3, 5, 7, -1]\n",
    "                  'min_split_gain': [0, 0.1, 0.2],  # [0, 0.1, 0.2]\n",
    "                  'min_child_weight': [0.001, 0.01, 0.1, 1],  # [0.001, 0.01, 0.1, 1]\n",
    "                  'min_child_samples': [10, 20, 50],  # [10, 20, 50]\n",
    "                  'subsample_freq': [5, 10],  # [5, 10]\n",
    "                  'colsample_bytree' : [0.8, 1],  # [0.8, 1]\n",
    "                  'reg_alpha': [0, 0.1],  # [0, 0.1]\n",
    "                  'reg_lambda': [0, 0.1]}  # [0, 0.1]\n",
    "    \n",
    "    model = lgb.LGBMClassifier(boosting_type=boosting_type, \n",
    "                               learning_rate=0.01,\n",
    "                               n_estimators=200,  # 1000\n",
    "                               n_jobs=-1)\n",
    "    \n",
    "    # 使用GridSearchCV进行超参数调优\n",
    "    grid_search = GridSearchCV(model, param_grid, scoring=scoring, \n",
    "                               n_jobs=-1, cv=5)\n",
    "    grid_search.fit(X, y)\n",
    "    print(f'LightGBM Best Params: ',grid_search.best_params_)\n",
    "    print(f'LightGBM Best Score: ', grid_search.best_score_)\n",
    "    return grid_search.best_estimator_"
   ]
  },
  {
   "cell_type": "code",
   "execution_count": 11,
   "metadata": {},
   "outputs": [
    {
     "name": "stdout",
     "output_type": "stream",
     "text": [
      "[LightGBM] [Info] Number of positive: 342, number of negative: 549\n",
      "[LightGBM] [Info] Auto-choosing row-wise multi-threading, the overhead of testing was 0.000393 seconds.\n",
      "You can set `force_row_wise=true` to remove the overhead.\n",
      "And if memory is not enough, you can set `force_col_wise=true`.\n",
      "[LightGBM] [Info] Total Bins 281\n",
      "[LightGBM] [Info] Number of data points in the train set: 891, number of used features: 18\n",
      "[LightGBM] [Info] [binary:BoostFromScore]: pavg=0.383838 -> initscore=-0.473288\n",
      "[LightGBM] [Info] Start training from score -0.473288\n",
      "[LightGBM] [Warning] No further splits with positive gain, best gain: -inf\n",
      "[LightGBM] [Warning] No further splits with positive gain, best gain: -inf\n",
      "[LightGBM] [Warning] No further splits with positive gain, best gain: -inf\n",
      "[LightGBM] [Warning] No further splits with positive gain, best gain: -inf\n",
      "[LightGBM] [Warning] No further splits with positive gain, best gain: -inf\n",
      "[LightGBM] [Warning] No further splits with positive gain, best gain: -inf\n",
      "[LightGBM] [Warning] No further splits with positive gain, best gain: -inf\n",
      "[LightGBM] [Warning] No further splits with positive gain, best gain: -inf\n",
      "[LightGBM] [Warning] No further splits with positive gain, best gain: -inf\n",
      "[LightGBM] [Warning] No further splits with positive gain, best gain: -inf\n",
      "[LightGBM] [Warning] No further splits with positive gain, best gain: -inf\n",
      "[LightGBM] [Warning] No further splits with positive gain, best gain: -inf\n",
      "[LightGBM] [Warning] No further splits with positive gain, best gain: -inf\n",
      "[LightGBM] [Warning] No further splits with positive gain, best gain: -inf\n",
      "[LightGBM] [Warning] No further splits with positive gain, best gain: -inf\n",
      "[LightGBM] [Warning] No further splits with positive gain, best gain: -inf\n",
      "[LightGBM] [Warning] No further splits with positive gain, best gain: -inf\n",
      "[LightGBM] [Warning] No further splits with positive gain, best gain: -inf\n",
      "[LightGBM] [Warning] No further splits with positive gain, best gain: -inf\n",
      "[LightGBM] [Warning] No further splits with positive gain, best gain: -inf\n",
      "[LightGBM] [Warning] No further splits with positive gain, best gain: -inf\n",
      "[LightGBM] [Warning] No further splits with positive gain, best gain: -inf\n",
      "[LightGBM] [Warning] No further splits with positive gain, best gain: -inf\n",
      "[LightGBM] [Warning] No further splits with positive gain, best gain: -inf\n",
      "[LightGBM] [Warning] No further splits with positive gain, best gain: -inf\n",
      "[LightGBM] [Warning] No further splits with positive gain, best gain: -inf\n",
      "[LightGBM] [Warning] No further splits with positive gain, best gain: -inf\n",
      "[LightGBM] [Warning] No further splits with positive gain, best gain: -inf\n",
      "[LightGBM] [Warning] No further splits with positive gain, best gain: -inf\n",
      "[LightGBM] [Warning] No further splits with positive gain, best gain: -inf\n",
      "[LightGBM] [Warning] No further splits with positive gain, best gain: -inf\n",
      "[LightGBM] [Warning] No further splits with positive gain, best gain: -inf\n",
      "[LightGBM] [Warning] No further splits with positive gain, best gain: -inf\n",
      "[LightGBM] [Warning] No further splits with positive gain, best gain: -inf\n",
      "[LightGBM] [Warning] No further splits with positive gain, best gain: -inf\n",
      "[LightGBM] [Warning] No further splits with positive gain, best gain: -inf\n",
      "[LightGBM] [Warning] No further splits with positive gain, best gain: -inf\n",
      "[LightGBM] [Warning] No further splits with positive gain, best gain: -inf\n",
      "[LightGBM] [Warning] No further splits with positive gain, best gain: -inf\n",
      "[LightGBM] [Warning] No further splits with positive gain, best gain: -inf\n",
      "[LightGBM] [Warning] No further splits with positive gain, best gain: -inf\n",
      "[LightGBM] [Warning] No further splits with positive gain, best gain: -inf\n",
      "[LightGBM] [Warning] No further splits with positive gain, best gain: -inf\n",
      "[LightGBM] [Warning] No further splits with positive gain, best gain: -inf\n",
      "[LightGBM] [Warning] No further splits with positive gain, best gain: -inf\n",
      "[LightGBM] [Warning] No further splits with positive gain, best gain: -inf\n",
      "[LightGBM] [Warning] No further splits with positive gain, best gain: -inf\n",
      "[LightGBM] [Warning] No further splits with positive gain, best gain: -inf\n",
      "[LightGBM] [Warning] No further splits with positive gain, best gain: -inf\n",
      "[LightGBM] [Warning] No further splits with positive gain, best gain: -inf\n",
      "[LightGBM] [Warning] No further splits with positive gain, best gain: -inf\n",
      "[LightGBM] [Warning] No further splits with positive gain, best gain: -inf\n",
      "[LightGBM] [Warning] No further splits with positive gain, best gain: -inf\n",
      "[LightGBM] [Warning] No further splits with positive gain, best gain: -inf\n",
      "[LightGBM] [Warning] No further splits with positive gain, best gain: -inf\n",
      "AdaBoost Best Params:  {'num_leaves': 31, 'reg_lambda': 0.1}\n",
      "AdaBoost Best Score:  0.8181846713953925\n"
     ]
    }
   ],
   "source": [
    "lightgbm = best_lightgbm_clf(X, y, scoring='accuracy')"
   ]
  },
  {
   "cell_type": "code",
   "execution_count": 12,
   "metadata": {},
   "outputs": [
    {
     "name": "stdout",
     "output_type": "stream",
     "text": [
      "lightgbm is successfully saved!\n",
      "lightgbm is successfully used to test!\n"
     ]
    },
    {
     "data": {
      "text/plain": [
       "True"
      ]
     },
     "execution_count": 12,
     "metadata": {},
     "output_type": "execute_result"
    }
   ],
   "source": [
    "save_model(lightgbm, 'lightgbm')\n",
    "submit('lightgbm', test)"
   ]
  }
 ],
 "metadata": {
  "kernelspec": {
   "display_name": "base",
   "language": "python",
   "name": "python3"
  },
  "language_info": {
   "codemirror_mode": {
    "name": "ipython",
    "version": 3
   },
   "file_extension": ".py",
   "mimetype": "text/x-python",
   "name": "python",
   "nbconvert_exporter": "python",
   "pygments_lexer": "ipython3",
   "version": "3.11.4"
  }
 },
 "nbformat": 4,
 "nbformat_minor": 2
}
